{
 "cells": [
  {
   "cell_type": "markdown",
   "id": "90fe3d3b",
   "metadata": {},
   "source": [
    "1. Para desarrollar este desafío necesitarás los siguientes archivos:\n",
    " incidents.pkl\n",
    " officers.pkl\n",
    " subjects.pk"
   ]
  },
  {
   "cell_type": "code",
   "execution_count": 1,
   "id": "e4fda7d7",
   "metadata": {},
   "outputs": [],
   "source": [
    "#para comentar importamos tanto pandas como los datos que estan en el mismo folder\n",
    "import pandas as pd\n",
    "\n",
    "# Cargar los datos\n",
    "incidents = pd.read_pickle('incidents.pkl')\n",
    "officers = pd.read_pickle('officers.pkl')\n",
    "subjects = pd.read_pickle('subjects.pkl')"
   ]
  },
  {
   "cell_type": "code",
   "execution_count": 4,
   "id": "4d6cebb7",
   "metadata": {},
   "outputs": [
    {
     "name": "stdout",
     "output_type": "stream",
     "text": [
      "Columnas de incidents: Index(['case_number', 'date', 'location', 'subject_statuses', 'subject_weapon',\n",
      "       'subjects', 'subject_count', 'officers', 'officer_count',\n",
      "       'grand_jury_disposition', 'attorney_general_forms_url', 'summary_url',\n",
      "       'summary_text', 'latitude', 'longitude'],\n",
      "      dtype='object')\n",
      "Columnas de officers: Index(['case_number', 'race', 'gender', 'last_name', 'first_name',\n",
      "       'full_name'],\n",
      "      dtype='object')\n",
      "Columnas de subjects: Index(['case_number', 'race', 'gender', 'last_name', 'first_name',\n",
      "       'full_name'],\n",
      "      dtype='object')\n"
     ]
    }
   ],
   "source": [
    "#revisamos las cabeceras para realizar el merge\n",
    "print(\"Columnas de incidents:\", incidents.columns)\n",
    "print(\"Columnas de officers:\", officers.columns)\n",
    "print(\"Columnas de subjects:\", subjects.columns)"
   ]
  },
  {
   "cell_type": "code",
   "execution_count": 6,
   "id": "f24594b4",
   "metadata": {},
   "outputs": [],
   "source": [
    "# Unir los DataFrames\n",
    "merged_df = pd.merge(pd.merge(incidents, officers, on='case_number', suffixes=('_incident', '_officer')), \n",
    "                     subjects, on='case_number', suffixes=('_officer', '_subject'))\n"
   ]
  },
  {
   "cell_type": "code",
   "execution_count": 7,
   "id": "dd17ccf2",
   "metadata": {},
   "outputs": [],
   "source": [
    "#ahora limpiaremos los datos verificando y eliminando los duplicados\n",
    "merged_df = merged_df.drop_duplicates()"
   ]
  },
  {
   "cell_type": "raw",
   "id": "960112c1",
   "metadata": {},
   "source": [
    "# ¿Cuántos sujetos de género F hay en el DataFrame resultante? hint: usa el método\n",
    ".value_counts() sobre la columna."
   ]
  },
  {
   "cell_type": "code",
   "execution_count": 8,
   "id": "aa6385e3",
   "metadata": {},
   "outputs": [
    {
     "name": "stdout",
     "output_type": "stream",
     "text": [
      "Número de sujetos de género F: 9\n"
     ]
    }
   ],
   "source": [
    "# Contamos sujetos de género F\n",
    "num_female_subjects = merged_df['gender_subject'].value_counts()['F']\n",
    "print(\"Número de sujetos de género F:\", num_female_subjects)\n"
   ]
  },
  {
   "cell_type": "raw",
   "id": "56736a5f",
   "metadata": {},
   "source": [
    "¿En cuántos números de caso hay por lo menos una sospechosa que sea mujer? hint:\n",
    "utiliza el método unique() para obtener los valores únicos de una columna específica de\n",
    "un DataFrame luego de filtrar.\n"
   ]
  },
  {
   "cell_type": "code",
   "execution_count": 10,
   "id": "dec7a582",
   "metadata": {},
   "outputs": [
    {
     "name": "stdout",
     "output_type": "stream",
     "text": [
      "Número de casos con al menos una sospechosa mujer: 7\n"
     ]
    }
   ],
   "source": [
    "#Obtener números de caso con al menos una sospechosa mujer\n",
    "cases_with_female_suspects = merged_df[merged_df['gender_subject'] == 'F']['case_number'].unique()\n",
    "num_cases_with_female_suspects = len(cases_with_female_suspects)\n",
    "print(\"Número de casos con al menos una sospechosa mujer:\", num_cases_with_female_suspects)"
   ]
  },
  {
   "cell_type": "raw",
   "id": "ee9ba634",
   "metadata": {},
   "source": [
    " Genera una tabla pivote que muestre en las filas el género del oficial y en las columnas el\n",
    "género del subject. ¿Cómo interpretas los valores que muestra esta vista?"
   ]
  },
  {
   "cell_type": "code",
   "execution_count": 11,
   "id": "a6184b18",
   "metadata": {},
   "outputs": [
    {
     "name": "stdout",
     "output_type": "stream",
     "text": [
      "Tabla pivote de género del oficial y del sujeto:\n",
      "gender_subject  F    M\n",
      "gender_officer        \n",
      "F               2   18\n",
      "M               7  350\n"
     ]
    }
   ],
   "source": [
    "# Generar tabla pivote\n",
    "pivot_table_gender = pd.pivot_table(merged_df, index='gender_officer', columns='gender_subject', aggfunc='size', fill_value=0)\n",
    "print(\"Tabla pivote de género del oficial y del sujeto:\")\n",
    "print(pivot_table_gender)"
   ]
  },
  {
   "cell_type": "markdown",
   "id": "6c0e6007",
   "metadata": {},
   "source": [
    "# Para continuar con el desarrollo de este desafío, necesitarás el archivosCleaned_DS_Jobs.csv"
   ]
  },
  {
   "cell_type": "code",
   "execution_count": 12,
   "id": "7cfa329d",
   "metadata": {},
   "outputs": [],
   "source": [
    "# Cargamos los datos\n",
    "jobs_df = pd.read_csv('Cleaned_DS_Jobs.csv')\n",
    "\n",
    "# Reemplazamos los valores nulos\n",
    "null_values = [\"na\", \"NA\", -1, \"0\", \"-1\", \"null\", \"n/a\", \"N/A\", \"NULL\"]\n",
    "jobs_df.replace(null_values, pd.NA, inplace=True)\n",
    "\n",
    "# Eliminamos las filas con datos faltantes\n",
    "jobs_df.dropna(inplace=True)"
   ]
  },
  {
   "cell_type": "code",
   "execution_count": 13,
   "id": "55447793",
   "metadata": {},
   "outputs": [],
   "source": [
    "# Generamos columnas de salario estimado mínimo y máximo\n",
    "jobs_df[['Salario Estimado Mínimo', 'Salario Estimado Máximo']] = jobs_df['Salary Estimate'].str.split('-', expand=True)\n",
    "jobs_df['Salario Estimado Mínimo'] = jobs_df['Salario Estimado Mínimo'].str.extract('(\\d+)')\n",
    "jobs_df['Salario Estimado Máximo'] = jobs_df['Salario Estimado Máximo'].str.extract('(\\d+)')\n",
    "jobs_df[['Salario Estimado Mínimo', 'Salario Estimado Máximo']] = jobs_df[['Salario Estimado Mínimo', 'Salario Estimado Máximo']].astype(float)"
   ]
  },
  {
   "cell_type": "code",
   "execution_count": 14,
   "id": "c5061c9d",
   "metadata": {},
   "outputs": [],
   "source": [
    "# Recodificmos la columna 'Size' usando mapping\n",
    "size_mapping = {\n",
    "    '10000+ employees': 'Mega Empresas',\n",
    "    '5001 to 10000 employees': 'Grandes Empresas',\n",
    "    '1001 to 5000 employees': 'Medianas Empresas',\n",
    "    '201 to 500 employees': 'Pequeñas Empresas',\n",
    "    '51 to 200 employees': 'Pequeñas Grandes Empresas',\n",
    "    '501 to 1000 employees': 'Microempresas',\n",
    "    'Unknown': 'Empresas sin Información'\n",
    "}\n",
    "jobs_df['Size'] = jobs_df['Size'].replace(size_mapping)"
   ]
  },
  {
   "cell_type": "code",
   "execution_count": 15,
   "id": "16c093f9",
   "metadata": {},
   "outputs": [
    {
     "name": "stdout",
     "output_type": "stream",
     "text": [
      "Tabla pivote por tamaño de empresa:\n",
      "                           Salario Estimado Máximo  Salario Estimado Mínimo\n",
      "Size                                                                       \n",
      "Empresas sin Información                110.500000                73.000000\n",
      "Grandes Empresas                        138.875000                92.125000\n",
      "Medianas Empresas                       137.461538                93.923077\n",
      "Mega Empresas                           151.111111                97.888889\n",
      "Microempresas                           146.235294               100.176471\n",
      "Pequeñas Empresas                       141.142857                93.571429\n",
      "Pequeñas Grandes Empresas               137.666667               100.666667\n"
     ]
    }
   ],
   "source": [
    "# para finalizar resumimos y reorganizamos con una tabla pivote\n",
    "pivot_table_size = pd.pivot_table(jobs_df, index='Size', values=['Salario Estimado Mínimo', 'Salario Estimado Máximo'], aggfunc='mean')\n",
    "print(\"Tabla pivote por tamaño de empresa:\")\n",
    "print(pivot_table_size)"
   ]
  },
  {
   "cell_type": "code",
   "execution_count": null,
   "id": "10604b44",
   "metadata": {},
   "outputs": [],
   "source": []
  }
 ],
 "metadata": {
  "kernelspec": {
   "display_name": "Python 3 (ipykernel)",
   "language": "python",
   "name": "python3"
  },
  "language_info": {
   "codemirror_mode": {
    "name": "ipython",
    "version": 3
   },
   "file_extension": ".py",
   "mimetype": "text/x-python",
   "name": "python",
   "nbconvert_exporter": "python",
   "pygments_lexer": "ipython3",
   "version": "3.11.5"
  }
 },
 "nbformat": 4,
 "nbformat_minor": 5
}
