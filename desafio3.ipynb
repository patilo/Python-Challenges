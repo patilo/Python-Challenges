{
 "cells": [
  {
   "cell_type": "markdown",
   "id": "bc36b902",
   "metadata": {},
   "source": [
    "# ejercicio 1\n",
    "\n",
    "1. Usando la siguiente lista:\n",
    "lista = [\"manzana\", \"pera\", \"naranja\", \"plátano\", \"kiwi\", \"uva\", \"piña\",\n",
    "\"mango\", \"sandía\", \"melón\"]\n",
    "a. Imprime el quinto elemento de la lista.\n",
    "b. Imprime del cuarto al sexto inclusive.\n",
    "c. Elimina el elemento en la posición 3\n",
    "d. Agrega dos nuevos elementos a la lista\n",
    "e. Ordena la lista alfabéticamente.\n",
    "f. Genera un diccionario usando lista1 como llaves y lista como valores.\n",
    "lista1 = [\"uno\", \"dos\", \"tres\", \"cuatro\", \"cinco\", \"seis\", \"siete\",\n",
    "\"ocho\", \"nueve\", \"diez\"]"
   ]
  },
  {
   "cell_type": "code",
   "execution_count": 1,
   "id": "c58b4398",
   "metadata": {},
   "outputs": [],
   "source": [
    "#definiremos la lista\n",
    "lista = [\"manzana\", \"pera\", \"naranja\", \"plátano\", \"kiwi\", \"uva\", \"piña\", \"mango\", \"sandía\", \"melón\"]"
   ]
  },
  {
   "cell_type": "code",
   "execution_count": 2,
   "id": "21d04b58",
   "metadata": {},
   "outputs": [
    {
     "name": "stdout",
     "output_type": "stream",
     "text": [
      "a. Quinto elemento: kiwi\n"
     ]
    }
   ],
   "source": [
    "# a. Imprimir el quinto elemento de la lista\n",
    "print(\"a. Quinto elemento:\", lista[4])"
   ]
  },
  {
   "cell_type": "code",
   "execution_count": 3,
   "id": "d05b3cc6",
   "metadata": {},
   "outputs": [
    {
     "name": "stdout",
     "output_type": "stream",
     "text": [
      "b. Del cuarto al sexto inclusive: ['plátano', 'kiwi', 'uva']\n"
     ]
    }
   ],
   "source": [
    "# b. Imprimir del cuarto al sexto inclusive\n",
    "print(\"b. Del cuarto al sexto inclusive:\", lista[3:6])"
   ]
  },
  {
   "cell_type": "code",
   "execution_count": 4,
   "id": "7f2a1df6",
   "metadata": {},
   "outputs": [
    {
     "name": "stdout",
     "output_type": "stream",
     "text": [
      "c. Lista después de eliminar el tercer elemento: ['manzana', 'pera', 'plátano', 'kiwi', 'uva', 'piña', 'mango', 'sandía', 'melón']\n"
     ]
    }
   ],
   "source": [
    "# c. Eliminar el elemento en la posición 3\n",
    "del lista[2]\n",
    "print(\"c. Lista después de eliminar el tercer elemento:\", lista)"
   ]
  },
  {
   "cell_type": "code",
   "execution_count": 5,
   "id": "8641b131",
   "metadata": {},
   "outputs": [
    {
     "name": "stdout",
     "output_type": "stream",
     "text": [
      "d. Lista después de agregar dos elementos: ['manzana', 'pera', 'cereza', 'plátano', 'kiwi', 'uva', 'piña', 'mango', 'sandía', 'melón', 'fresa']\n"
     ]
    }
   ],
   "source": [
    "# d. Agregar dos nuevos elementos a la lista\n",
    "lista.append(\"fresa\")\n",
    "lista.insert(2, \"cereza\")\n",
    "print(\"d. Lista después de agregar dos elementos:\", lista)"
   ]
  },
  {
   "cell_type": "code",
   "execution_count": 6,
   "id": "c25c8227",
   "metadata": {},
   "outputs": [
    {
     "name": "stdout",
     "output_type": "stream",
     "text": [
      "e. Lista ordenada alfabéticamente: ['cereza', 'fresa', 'kiwi', 'mango', 'manzana', 'melón', 'pera', 'piña', 'plátano', 'sandía', 'uva']\n"
     ]
    }
   ],
   "source": [
    "# e. Ordenar la lista alfabéticamente\n",
    "lista.sort()\n",
    "print(\"e. Lista ordenada alfabéticamente:\", lista)"
   ]
  },
  {
   "cell_type": "code",
   "execution_count": 7,
   "id": "21252abe",
   "metadata": {},
   "outputs": [
    {
     "name": "stdout",
     "output_type": "stream",
     "text": [
      "f. Diccionario generado: {'uno': 'cereza', 'dos': 'fresa', 'tres': 'kiwi', 'cuatro': 'mango', 'cinco': 'manzana', 'seis': 'melón', 'siete': 'pera', 'ocho': 'piña', 'nueve': 'plátano', 'diez': 'sandía'}\n"
     ]
    }
   ],
   "source": [
    "# f. Generar un diccionario usando lista1 como llaves y lista como valores\n",
    "lista1 = [\"uno\", \"dos\", \"tres\", \"cuatro\", \"cinco\", \"seis\", \"siete\", \"ocho\", \"nueve\", \"diez\"]\n",
    "diccionario = dict(zip(lista1, lista))\n",
    "print(\"f. Diccionario generado:\", diccionario)"
   ]
  },
  {
   "cell_type": "markdown",
   "id": "74522fa3",
   "metadata": {},
   "source": [
    "# Ejercicio 2\n",
    " Fabricación de cerveza artesanal\n",
    "El LIC y el LSC son calculados utilizando la media y la desviación estándar de los datos del\n",
    "proceso. La idea es que la mayoría de los datos del proceso se encuentren dentro de los límites\n",
    "de control (entre el LIC y el LSC), y si un dato cae fuera de estos límites, se puede considerar\n",
    "que el proceso está fuera de control y se requiere una acción correctiva para investigar y\n",
    "corregir la causa de la variación. El valor del LIC se calcula como la media menos tres veces la\n",
    "desviación estándar, y el valor del LSC se calcula como la media más tres veces la\n",
    "desviación estándar. Estos límites representan el rango en el que la mayoría de los datos del\n",
    "proceso deberían estar\n",
    "\n",
    "Para poder asegurar de que la cantidad de alcohol en cada lote de cerveza sea consistente,\n",
    "debes medir el porcentaje de alcohol de cada lote y registrar los datos en una hoja de cálculo.\n",
    "Esta información ya ha sido recolectada a partir de 1.000 lotes de cerveza y se encuentra en el\n",
    "archivo alcohol_cerveza.csv.\n",
    "El objetivo del ejercicio es calcular la media, la desviación estándar, el LIC y el LSC del\n",
    "porcentaje de alcohol y guardarlos en variables.\n",
    "Para asegurarte de que los lotes de cerveza se estén elaborando de forma consistente y que el\n",
    "nivel de alcohol sea el adecuado, una vez calculadas las medidas anteriores, indicar cuáles\n",
    "valores quedarían fuera de los límites de control y cuántos son.\n",
    "\n"
   ]
  },
  {
   "cell_type": "code",
   "execution_count": 8,
   "id": "5e7b2e37",
   "metadata": {},
   "outputs": [],
   "source": [
    "#para comenzar importaremos la libreria numpy\n",
    "import numpy as np\n",
    "\n",
    "# Cargar los datos del archivo CSV\n",
    "archivo_cerveza = \"alcohol_cerveza.csv\"\n",
    "datos_cerveza = np.loadtxt(archivo_cerveza, delimiter=\",\")"
   ]
  },
  {
   "cell_type": "code",
   "execution_count": 9,
   "id": "d22de477",
   "metadata": {},
   "outputs": [],
   "source": [
    "# Calcular la media y la desviación estándar\n",
    "media = np.mean(datos_cerveza)\n",
    "desviacion = np.std(datos_cerveza)\n"
   ]
  },
  {
   "cell_type": "code",
   "execution_count": 10,
   "id": "60a51a84",
   "metadata": {},
   "outputs": [],
   "source": [
    "# Calcular el LIC y el LSC\n",
    "lic = media - 3 * desviacion\n",
    "lsc = media + 3 * desviacion"
   ]
  },
  {
   "cell_type": "code",
   "execution_count": 11,
   "id": "abd06b78",
   "metadata": {},
   "outputs": [
    {
     "name": "stdout",
     "output_type": "stream",
     "text": [
      "Media: 5.01\n",
      "Desviación Estándar: 0.35\n",
      "LIC: 3.96\n",
      "LSC: 6.05\n"
     ]
    }
   ],
   "source": [
    "# Imprimir los resultados\n",
    "print(f\"Media: {media:.2f}\")\n",
    "print(f\"Desviación Estándar: {desviacion:.2f}\")\n",
    "print(f\"LIC: {lic:.2f}\")\n",
    "print(f\"LSC: {lsc:.2f}\")"
   ]
  },
  {
   "cell_type": "code",
   "execution_count": 12,
   "id": "557e1e36",
   "metadata": {},
   "outputs": [],
   "source": [
    "# Filtrar valores fuera de los límites de control\n",
    "fuera_limites = np.logical_or(datos_cerveza < lic, datos_cerveza > lsc)"
   ]
  },
  {
   "cell_type": "code",
   "execution_count": 13,
   "id": "ca46fc1b",
   "metadata": {},
   "outputs": [
    {
     "name": "stdout",
     "output_type": "stream",
     "text": [
      "\n",
      "Número de valores fuera de los límites de control: 2\n"
     ]
    }
   ],
   "source": [
    "# Contar cuántos valores están fuera de los límites de control\n",
    "cantidad_fuera_limites = np.sum(fuera_limites)\n",
    "print(f\"\\nNúmero de valores fuera de los límites de control: {cantidad_fuera_limites}\")"
   ]
  },
  {
   "cell_type": "code",
   "execution_count": null,
   "id": "9612d87c",
   "metadata": {},
   "outputs": [],
   "source": []
  }
 ],
 "metadata": {
  "kernelspec": {
   "display_name": "Python 3 (ipykernel)",
   "language": "python",
   "name": "python3"
  },
  "language_info": {
   "codemirror_mode": {
    "name": "ipython",
    "version": 3
   },
   "file_extension": ".py",
   "mimetype": "text/x-python",
   "name": "python",
   "nbconvert_exporter": "python",
   "pygments_lexer": "ipython3",
   "version": "3.11.5"
  }
 },
 "nbformat": 4,
 "nbformat_minor": 5
}
