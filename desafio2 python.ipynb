{
 "cells": [
  {
   "cell_type": "markdown",
   "id": "9ecc0ef3",
   "metadata": {},
   "source": [
    "# ejercicio 1\n",
    "Escribe un programa que pida al usuario dos números enteros y calcule la suma de\n",
    "todos los números pares entre ellos. El programa deberá imprimir el resultado. (hint:\n",
    "utilice la función range() para generar la secuencia de números enteros)"
   ]
  },
  {
   "cell_type": "code",
   "execution_count": 6,
   "id": "79eb37b8",
   "metadata": {},
   "outputs": [
    {
     "name": "stdout",
     "output_type": "stream",
     "text": [
      "Ingrese el primer número entero: 3\n",
      "Ingrese el segundo número entero: 6\n"
     ]
    }
   ],
   "source": [
    "# Solicitar al usuario dos números enteros\n",
    "num1 = int(input(\"Ingrese el primer número entero: \"))\n",
    "num2 = int(input(\"Ingrese el segundo número entero: \"))"
   ]
  },
  {
   "cell_type": "code",
   "execution_count": 7,
   "id": "11e32b31",
   "metadata": {},
   "outputs": [],
   "source": [
    "# verificar que num1 sea menor o igual a num2\n",
    "if num1 > num2:\n",
    "    num1, num2 = num2, num1"
   ]
  },
  {
   "cell_type": "code",
   "execution_count": 8,
   "id": "98705382",
   "metadata": {},
   "outputs": [],
   "source": [
    "# Calcular la suma de todos los números pares entre num1 y num2 utilizando la funcion range\n",
    "suma_pares = sum(numero for numero in range(num1, num2 + 1) if numero % 2 == 0)"
   ]
  },
  {
   "cell_type": "code",
   "execution_count": 9,
   "id": "54e0a1d3",
   "metadata": {},
   "outputs": [
    {
     "name": "stdout",
     "output_type": "stream",
     "text": [
      "la suma entre los numeros3, 6 es:  10\n"
     ]
    }
   ],
   "source": [
    "print(f\"la suma entre los numeros {num1}, {num2} es: \",suma_pares)"
   ]
  },
  {
   "cell_type": "markdown",
   "id": "8a53ae0a",
   "metadata": {},
   "source": [
    "# ejercicio 2\n",
    "Escribe un programa que pida al usuario el tipo de figura geométrica de la que quiere\n",
    "calcular el área (cuadrado, triángulo o círculo) y las medidas correspondientes. El\n",
    "programa deberá calcular y mostrar el área de la figura seleccionada. (hint: para\n",
    "obtener el número pi puedes utilizar la librería math)\n"
   ]
  },
  {
   "cell_type": "code",
   "execution_count": 10,
   "id": "c72f9eb5",
   "metadata": {},
   "outputs": [
    {
     "name": "stdout",
     "output_type": "stream",
     "text": [
      "Ingrese el tipo de figura geométrica (cuadrado, triángulo o círculo): cuadrado\n"
     ]
    }
   ],
   "source": [
    "#como solicita el ejercicio importaemos la lib math\n",
    "import math\n",
    "# Solicitar al usuario el tipo de figura geométrica usando lower (minusculas)\n",
    "figura = input(\"Ingrese el tipo de figura geométrica (cuadrado, triángulo o círculo): \").lower()"
   ]
  },
  {
   "cell_type": "code",
   "execution_count": 11,
   "id": "f5d67108",
   "metadata": {},
   "outputs": [],
   "source": [
    "#crearemos 3 funciones diferentes para cada figura\n",
    "# Función para calcular el área del cuadrado\n",
    "def calcular_area_cuadrado(lado):\n",
    "    return lado ** 2\n",
    "\n",
    "# Función para calcular el área del triángulo\n",
    "def calcular_area_triangulo(base, altura):\n",
    "    return 0.5 * base * altura\n",
    "\n",
    "# Función para calcular el área del círculo\n",
    "def calcular_area_circulo(radio):\n",
    "    return math.pi * radio ** 2"
   ]
  },
  {
   "cell_type": "code",
   "execution_count": 12,
   "id": "7137dad5",
   "metadata": {},
   "outputs": [
    {
     "name": "stdout",
     "output_type": "stream",
     "text": [
      "Ingrese la longitud del lado del cuadrado: 4\n"
     ]
    }
   ],
   "source": [
    "# Realizar cálculos según la figura seleccionada\n",
    "if figura == \"cuadrado\":\n",
    "    lado = float(input(\"Ingrese la longitud del lado del cuadrado: \"))\n",
    "    area = calcular_area_cuadrado(lado)\n",
    "elif figura == \"triangulo\":\n",
    "    base = float(input(\"Ingrese la longitud de la base del triángulo: \"))\n",
    "    altura = float(input(\"Ingrese la altura del triángulo: \"))\n",
    "    area = calcular_area_triangulo(base, altura)\n",
    "elif figura == \"circulo\":\n",
    "    radio = float(input(\"Ingrese el radio del círculo: \"))\n",
    "    area = calcular_area_circulo(radio)\n",
    "else:\n",
    "    print(\"Figura no reconocida. Por favor, ingrese cuadrado, triángulo o círculo.\")\n"
   ]
  },
  {
   "cell_type": "code",
   "execution_count": 13,
   "id": "ef8c1177",
   "metadata": {},
   "outputs": [
    {
     "name": "stdout",
     "output_type": "stream",
     "text": [
      "El área de la cuadrado es: 16.00\n"
     ]
    }
   ],
   "source": [
    "# Mostrar el resultado\n",
    "if figura in [\"cuadrado\", \"triangulo\", \"circulo\"]:\n",
    "    print(f\"El área de la {figura} es: {area:.2f}\")"
   ]
  },
  {
   "cell_type": "markdown",
   "id": "15e2b6a0",
   "metadata": {},
   "source": [
    "# ejercicio 3\n",
    "Ejercicio 3: Adivina el número\n",
    "Escribe un programa que genere un número aleatorio entre 1 y 100 y pida al usuario\n",
    "que adivine cuál es. El programa deberá dar pistas al usuario diciendo si el número\n",
    "que ha introducido es mayor o menor que el número aleatorio. El programa deberá\n",
    "continuar pidiendo números hasta que el usuario adivine el número correcto. (hint:\n",
    "utiliza un ciclo while para mantener al programa pidiendo números)\n"
   ]
  },
  {
   "cell_type": "code",
   "execution_count": 14,
   "id": "ac467666",
   "metadata": {},
   "outputs": [],
   "source": [
    "#como nos pide un numero aleatorio podemos usar la libreria random y generamos los numeros entre 1 y 100\n",
    "import random\n",
    "# Generar un número aleatorio entre 1 y 100\n",
    "numero_secreto = random.randint(1, 100)"
   ]
  },
  {
   "cell_type": "code",
   "execution_count": 15,
   "id": "59db53d4",
   "metadata": {},
   "outputs": [],
   "source": [
    "# Inicializar la variable para el número ingresado por el usuario\n",
    "numero_ingresado = 0"
   ]
  },
  {
   "cell_type": "code",
   "execution_count": 16,
   "id": "b98014ae",
   "metadata": {
    "scrolled": true
   },
   "outputs": [
    {
     "name": "stdout",
     "output_type": "stream",
     "text": [
      "Adivina el número (entre 1 y 100): 4\n",
      "El número es mayor. Intenta de nuevo.\n",
      "Adivina el número (entre 1 y 100): 99\n",
      "El número es menor. Intenta de nuevo.\n",
      "Adivina el número (entre 1 y 100): 50\n",
      "El número es mayor. Intenta de nuevo.\n",
      "Adivina el número (entre 1 y 100): 60\n",
      "El número es mayor. Intenta de nuevo.\n",
      "Adivina el número (entre 1 y 100): 70\n",
      "El número es mayor. Intenta de nuevo.\n",
      "Adivina el número (entre 1 y 100): .80\n"
     ]
    },
    {
     "ename": "ValueError",
     "evalue": "invalid literal for int() with base 10: '.80'",
     "output_type": "error",
     "traceback": [
      "\u001b[1;31m---------------------------------------------------------------------------\u001b[0m",
      "\u001b[1;31mValueError\u001b[0m                                Traceback (most recent call last)",
      "Cell \u001b[1;32mIn[16], line 4\u001b[0m\n\u001b[0;32m      1\u001b[0m \u001b[38;5;66;03m# utilizarmos While para generar el ciclo hasta que adivine\u001b[39;00m\n\u001b[0;32m      2\u001b[0m \u001b[38;5;28;01mwhile\u001b[39;00m numero_ingresado \u001b[38;5;241m!=\u001b[39m numero_secreto:\n\u001b[0;32m      3\u001b[0m     \u001b[38;5;66;03m# Solicitar al usuario que adivine el número\u001b[39;00m\n\u001b[1;32m----> 4\u001b[0m     numero_ingresado \u001b[38;5;241m=\u001b[39m \u001b[38;5;28mint\u001b[39m(\u001b[38;5;28minput\u001b[39m(\u001b[38;5;124m\"\u001b[39m\u001b[38;5;124mAdivina el número (entre 1 y 100): \u001b[39m\u001b[38;5;124m\"\u001b[39m))\n\u001b[0;32m      6\u001b[0m     \u001b[38;5;66;03m# Comparar el número ingresado con el número secreto y dar pistas\u001b[39;00m\n\u001b[0;32m      7\u001b[0m     \u001b[38;5;28;01mif\u001b[39;00m numero_ingresado \u001b[38;5;241m<\u001b[39m numero_secreto:\n",
      "\u001b[1;31mValueError\u001b[0m: invalid literal for int() with base 10: '.80'"
     ]
    }
   ],
   "source": [
    "# utilizarmos While para generar el ciclo hasta que adivine\n",
    "while numero_ingresado != numero_secreto:\n",
    "    # Solicitar al usuario que adivine el número\n",
    "    numero_ingresado = int(input(\"Adivina el número (entre 1 y 100): \"))\n",
    "\n",
    "    # Comparar el número ingresado con el número secreto y dar pistas\n",
    "    if numero_ingresado < numero_secreto:\n",
    "        print(\"El número es mayor. Intenta de nuevo.\")\n",
    "    elif numero_ingresado > numero_secreto:\n",
    "        print(\"El número es menor. Intenta de nuevo.\")\n",
    "    else:\n",
    "        print(f\"Felicidades, ¡adivinaste el número {numero_secreto}!\")\n"
   ]
  },
  {
   "cell_type": "markdown",
   "id": "d971377f",
   "metadata": {},
   "source": [
    "# ejercicio 4\n",
    "4. Ejercicio 4: ¡Maratón de caracoles!\n",
    "Crea un programa que simule un caracol que va corriendo una maratón. Pide al usuario que\n",
    "ingrese la velocidad a la que puede correr el caracol. Debes usar un ciclo while, para ir\n",
    "mostrando un emoji de caracol 🐌 que se vaya moviendo hacia la derecha en cada\n",
    "impresión, el avance del caracol debe visualizarse de esta forma:\n",
    "__________ 🐌\n",
    "____________________ 🐌\n",
    "______________________________ 🐌\n",
    "________________________________________ 🐌\n",
    "__________________________________________________ 🐌\n",
    "____________________________________________________________ 🐌\n",
    "______________________________________________________________________ 🐌\n",
    "________________________________________________________________________________ 🐌\n",
    "__________________________________________________________________________________________ 🐌\n"
   ]
  },
  {
   "cell_type": "code",
   "execution_count": 4,
   "id": "89e35f01",
   "metadata": {
    "scrolled": false
   },
   "outputs": [
    {
     "name": "stdout",
     "output_type": "stream",
     "text": [
      "Ingrese la velocidad del caracol (en unidades por segundo): 3\n"
     ]
    }
   ],
   "source": [
    "#segun lo investigado, podemos usar la libreria time\n",
    "import time\n",
    "# Solicitar al usuario la velocidad del caracol\n",
    "velocidad_caracol = float(input(\"Ingrese la velocidad del caracol (en unidades por segundo): \"))"
   ]
  },
  {
   "cell_type": "code",
   "execution_count": 5,
   "id": "9f848ffa",
   "metadata": {},
   "outputs": [],
   "source": [
    "# comenzar la posición del caracol\n",
    "posicion_caracol = 1"
   ]
  },
  {
   "cell_type": "code",
   "execution_count": 6,
   "id": "9f45ca06",
   "metadata": {},
   "outputs": [],
   "source": [
    "# Configurar la longitud de la pista como por ejemplo usaremos 100\n",
    "longitud_pista = 100"
   ]
  },
  {
   "cell_type": "code",
   "execution_count": 8,
   "id": "fe88d54e",
   "metadata": {},
   "outputs": [
    {
     "name": "stdout",
     "output_type": "stream",
     "text": [
      " 🐌\n",
      "    🐌\n",
      "       🐌\n",
      "          🐌\n",
      "             🐌\n",
      "                🐌\n",
      "                   🐌\n",
      "                      🐌\n",
      "                         🐌\n",
      "                            🐌\n",
      "                               🐌\n",
      "                                  🐌\n",
      "                                     🐌\n",
      "                                        🐌\n",
      "                                           🐌\n",
      "                                              🐌\n",
      "                                                 🐌\n",
      "                                                    🐌\n",
      "                                                       🐌\n",
      "                                                          🐌\n",
      "                                                             🐌\n",
      "                                                                🐌\n",
      "                                                                   🐌\n",
      "                                                                      🐌\n",
      "                                                                         🐌\n",
      "                                                                            🐌\n",
      "                                                                               🐌\n"
     ]
    }
   ],
   "source": [
    "# Utilizare un ciclo while para simular la carrera del caracol\n",
    "while posicion_caracol < 80:  # Limitar la simulación a un ancho específico\n",
    "    # Mostrar la posición actual del caracol\n",
    "    print(\" \" * posicion_caracol + \"🐌\")\n",
    "\n",
    "    # Actualizar la posición del caracol basado en la velocidad\n",
    "    posicion_caracol += int(velocidad_caracol)\n",
    "\n",
    "    # Pausa breve para visualizar el movimiento del caracol\n",
    "    time.sleep(0.1)"
   ]
  },
  {
   "cell_type": "code",
   "execution_count": null,
   "id": "dcb62b84",
   "metadata": {},
   "outputs": [],
   "source": []
  }
 ],
 "metadata": {
  "kernelspec": {
   "display_name": "Python 3 (ipykernel)",
   "language": "python",
   "name": "python3"
  },
  "language_info": {
   "codemirror_mode": {
    "name": "ipython",
    "version": 3
   },
   "file_extension": ".py",
   "mimetype": "text/x-python",
   "name": "python",
   "nbconvert_exporter": "python",
   "pygments_lexer": "ipython3",
   "version": "3.11.5"
  }
 },
 "nbformat": 4,
 "nbformat_minor": 5
}
